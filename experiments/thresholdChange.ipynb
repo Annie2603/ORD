{
 "cells": [
  {
   "cell_type": "markdown",
   "metadata": {},
   "source": [
    "# Imports"
   ]
  },
  {
   "cell_type": "code",
   "execution_count": 2,
   "metadata": {},
   "outputs": [],
   "source": [
    "import sys\n",
    "import warnings\n",
    "warnings.simplefilter(action='ignore', category=Warning)\n",
    "import pandas as pd\n",
    "import numpy as np\n",
    "import sdmetrics\n",
    "from sdmetrics.reports.single_table import QualityReport\n",
    "from sdmetrics.single_table import (BinaryAdaBoostClassifier, BinaryDecisionTreeClassifier, BinaryLogisticRegression, BinaryMLPClassifier)\n",
    "\n",
    "from sklearn.metrics import accuracy_score\n",
    "import xgboost as xgb\n",
    "from xgboost import XGBClassifier\n",
    "import matplotlib.pyplot as plt\n",
    "from sklearn.metrics import accuracy_score, confusion_matrix, precision_score, recall_score, ConfusionMatrixDisplay\n"
   ]
  },
  {
   "cell_type": "markdown",
   "metadata": {},
   "source": [
    "## Setting paths & variables"
   ]
  },
  {
   "cell_type": "code",
   "execution_count": null,
   "metadata": {},
   "outputs": [],
   "source": [
    "bal_path = 'path_to_balanced_dataset'\n",
    "\n",
    "target = 'income' #change target according to dataset\n",
    "ORD = 'ORD' #Name of the ORD column"
   ]
  },
  {
   "cell_type": "code",
   "execution_count": null,
   "metadata": {},
   "outputs": [],
   "source": [
    "# loading multiple csv files to get sufficient number of minority points\n",
    "noORD_path1 = 'path_to_noORD_synthetic_data'\n",
    "noORD_path2 = 'path_to_noORD_synthetic_data'\n",
    "noORD_path3 = 'path_to_noORD_synthetic_data'\n",
    "noORD_path4 = 'path_to_noORD_synthetic_data'\n",
    "noORD_path5 = 'path_to_noORD_synthetic_data'\n",
    "\n",
    "ORD_path1 = 'path_to_ORD_synthetic_data'\n",
    "ORD_path2 = 'path_to_ORD_synthetic_data'\n",
    "ORD_path3 = 'path_to_ORD_synthetic_data'\n",
    "ORD_path4 = 'path_to_ORD_synthetic_data'\n",
    "ORD_path5 = 'path_to_ORD_synthetic_data'"
   ]
  },
  {
   "cell_type": "markdown",
   "metadata": {},
   "source": [
    "## Test Set Creation"
   ]
  },
  {
   "cell_type": "code",
   "execution_count": 7,
   "metadata": {},
   "outputs": [
    {
     "name": "stdout",
     "output_type": "stream",
     "text": [
      "income\n",
      "0    34014\n",
      "1    11208\n",
      "Name: count, dtype: int64\n",
      "income\n",
      "1    2000\n",
      "0    2000\n",
      "Name: count, dtype: int64\n"
     ]
    }
   ],
   "source": [
    "# sampling 2k rows each of majority and minority points from the balanced dataset\n",
    "df = pd.read_csv(bal_path)\n",
    "print(df[target].value_counts())\n",
    "test = pd.concat([df[df[target]==1].sample(n=2000, random_state=42), df[df[target]==0].sample(n=2000, random_state=42)], axis=0)\n",
    "print(test[target].value_counts())\n"
   ]
  },
  {
   "cell_type": "markdown",
   "metadata": {},
   "source": [
    "# No ORD Synthetic"
   ]
  },
  {
   "cell_type": "code",
   "execution_count": 13,
   "metadata": {},
   "outputs": [
    {
     "name": "stdout",
     "output_type": "stream",
     "text": [
      "income\n",
      "0    194498\n",
      "1      5502\n",
      "Name: count, dtype: int64\n",
      "(45222, 14)\n"
     ]
    }
   ],
   "source": [
    "# loading multiple datasets to get sufficient number of class 1 points\n",
    "df0 = pd.read_csv(noORD_path1)\n",
    "df1 = pd.read_csv(noORD_path2)\n",
    "df2 = pd.read_csv(noORD_path3)\n",
    "df3 = pd.read_csv(noORD_path4)\n",
    "df4 = pd.read_csv(noORD_path5)\n",
    "\n",
    "print(df0[target].value_counts())\n",
    "print(df.shape)"
   ]
  },
  {
   "cell_type": "code",
   "execution_count": 14,
   "metadata": {},
   "outputs": [
    {
     "name": "stdout",
     "output_type": "stream",
     "text": [
      "(1000000, 14)\n",
      "income\n",
      "0    978460\n",
      "1     21540\n",
      "Name: count, dtype: int64\n",
      "income\n",
      "1    20000\n",
      "0    20000\n",
      "Name: count, dtype: int64\n"
     ]
    }
   ],
   "source": [
    "data = pd.concat([df0,df1,df2, df3, df4], axis = 0)\n",
    "print(data.shape)\n",
    "print(data[target].value_counts())\n",
    "#sampling equal number of points from the minority and majority class\n",
    "data = pd.concat([data[data[target]==1].sample(n=20000, random_state=42), data[data[target]==0].sample(n=20000, random_state=42)])\n",
    "print(data[target].value_counts())"
   ]
  },
  {
   "cell_type": "code",
   "execution_count": 15,
   "metadata": {},
   "outputs": [],
   "source": [
    "# changing object datatype to category as is required for xgboost\n",
    "cat_cols = [col for col in data.columns if data[col].dtype == 'object']\n",
    "for col in cat_cols:\n",
    "    data[col] = data[col].astype('category')"
   ]
  },
  {
   "cell_type": "code",
   "execution_count": 16,
   "metadata": {},
   "outputs": [],
   "source": [
    "train = data\n",
    "X_train = train.drop(target, axis = 1)\n",
    "y_train = train[target]\n",
    "X_test = test.drop(target, axis = 1)\n",
    "y_test = test[target]\n",
    "\n",
    "xgb_train = xgb.DMatrix(X_train, y_train, enable_categorical=True)\n",
    "xgb_test = xgb.DMatrix(X_test, y_test, enable_categorical=True)"
   ]
  },
  {
   "cell_type": "code",
   "execution_count": 17,
   "metadata": {},
   "outputs": [],
   "source": [
    "# can change xgboost parameters\n",
    "params = {\n",
    "\t'objective': 'binary:logistic',\n",
    "\t# 'max_depth': [20, 50, 100],\n",
    "\t# 'learning_rate': [0.1, 0.001, 0.0001],\n",
    "    # 'num_boost_round': 500\n",
    "}\n",
    "\n",
    "model = xgb.train(params=params,dtrain=xgb_train)#,num_boost_round=n)"
   ]
  },
  {
   "cell_type": "markdown",
   "metadata": {},
   "source": [
    "## Checking accuracy"
   ]
  },
  {
   "cell_type": "code",
   "execution_count": 18,
   "metadata": {},
   "outputs": [
    {
     "name": "stdout",
     "output_type": "stream",
     "text": [
      "22565\n",
      "Train accuracy of the model is: 84.4425\n"
     ]
    },
    {
     "data": {
      "text/plain": [
       "<sklearn.metrics._plot.confusion_matrix.ConfusionMatrixDisplay at 0x714d7958f830>"
      ]
     },
     "execution_count": 18,
     "metadata": {},
     "output_type": "execute_result"
    },
    {
     "data": {
      "image/png": "[encoded data removed]",
      "text/plain": [
       "<Figure size 640x480 with 2 Axes>"
      ]
     },
     "metadata": {},
     "output_type": "display_data"
    }
   ],
   "source": [
    "preds_train = model.predict(xgb_train)\n",
    "y_pred_train = [round(pred) for pred in preds_train]\n",
    "print(sum(y_pred_train))\n",
    "accuracy= accuracy_score(y_train,y_pred_train)\n",
    "print('Train accuracy of the model is:', accuracy*100)\n",
    "cm = confusion_matrix(y_train, y_pred_train)\n",
    "ConfusionMatrixDisplay(confusion_matrix=cm).plot()"
   ]
  },
  {
   "cell_type": "code",
   "execution_count": 19,
   "metadata": {},
   "outputs": [
    {
     "name": "stdout",
     "output_type": "stream",
     "text": [
      "2156\n",
      "Test accuracy of the model is: 80.0\n"
     ]
    },
    {
     "data": {
      "text/plain": [
       "<sklearn.metrics._plot.confusion_matrix.ConfusionMatrixDisplay at 0x714cd815f2c0>"
      ]
     },
     "execution_count": 19,
     "metadata": {},
     "output_type": "execute_result"
    },
    {
     "data": {
      "image/png": "[encoded data removed]",
      "text/plain": [
       "<Figure size 640x480 with 2 Axes>"
      ]
     },
     "metadata": {},
     "output_type": "display_data"
    }
   ],
   "source": [
    "preds = model.predict(xgb_test)\n",
    "y_pred = [round(pred) for pred in preds]\n",
    "print(sum(y_pred))\n",
    "accuracy= accuracy_score(y_test,y_pred)\n",
    "print('Test accuracy of the model is:', accuracy*100)\n",
    "cm = confusion_matrix(y_test, y_pred)\n",
    "ConfusionMatrixDisplay(confusion_matrix=cm).plot()"
   ]
  },
  {
   "cell_type": "markdown",
   "metadata": {},
   "source": [
    "## Changing threshold"
   ]
  },
  {
   "cell_type": "code",
   "execution_count": 21,
   "metadata": {},
   "outputs": [
    {
     "name": "stdout",
     "output_type": "stream",
     "text": [
      "2682\n",
      "Threshold: 0.20, accuracy: 77.64999999999999\n",
      "2643\n",
      "Threshold: 0.22, accuracy: 77.925\n",
      "2602\n",
      "Threshold: 0.24, accuracy: 78.55\n",
      "2554\n",
      "Threshold: 0.26, accuracy: 79.10000000000001\n",
      "2530\n",
      "Threshold: 0.28, accuracy: 79.25\n",
      "2485\n",
      "Threshold: 0.30, accuracy: 79.375\n",
      "2458\n",
      "Threshold: 0.32, accuracy: 79.55\n",
      "2412\n",
      "Threshold: 0.34, accuracy: 79.80000000000001\n",
      "2393\n",
      "Threshold: 0.36, accuracy: 79.77499999999999\n",
      "2363\n",
      "Threshold: 0.38, accuracy: 80.22500000000001\n",
      "2337\n",
      "Threshold: 0.40, accuracy: 79.975\n",
      "2307\n",
      "Threshold: 0.42, accuracy: 79.925\n",
      "2274\n",
      "Threshold: 0.44, accuracy: 80.05\n",
      "2241\n",
      "Threshold: 0.46, accuracy: 80.075\n",
      "2192\n",
      "Threshold: 0.48, accuracy: 80.2\n"
     ]
    }
   ],
   "source": [
    "for i in np.arange(0.2,0.5,0.02):\n",
    "    THRESHOLD = i\n",
    "    y_pred = [pred>=THRESHOLD for pred in preds ]\n",
    "    print(sum(y_pred))\n",
    "    accuracy= accuracy_score(y_test,y_pred)\n",
    "    print(f'Threshold: {THRESHOLD:.2f}, accuracy: {accuracy*100}')\n",
    "    cm = confusion_matrix(y_test, y_pred)\n",
    "    # Can display confusion matrix for each threshold for more details \n",
    "    # ConfusionMatrixDisplay(confusion_matrix=cm).plot()"
   ]
  },
  {
   "cell_type": "markdown",
   "metadata": {},
   "source": [
    "Best accuray of 80.225% occurs at a threshold of 0.38"
   ]
  },
  {
   "cell_type": "markdown",
   "metadata": {},
   "source": [
    "# ORD Synthetic"
   ]
  },
  {
   "cell_type": "code",
   "execution_count": 25,
   "metadata": {},
   "outputs": [
    {
     "name": "stdout",
     "output_type": "stream",
     "text": [
      "cond\n",
      "0    196639\n",
      "1      1923\n",
      "2      1438\n",
      "Name: count, dtype: int64\n"
     ]
    }
   ],
   "source": [
    "# df = pd.read_csv('/raid/infolab/annie/data generation/CTAB-GAN-Plus/data/AdultIncome/AdultIncome_unbalanced.csv')\n",
    "df0 = pd.read_csv(ORD_path1)\n",
    "df1 = pd.read_csv(ORD_path2)\n",
    "df2 = pd.read_csv(ORD_path3)\n",
    "df3 = pd.read_csv(ORD_path4)\n",
    "df4 = pd.read_csv(ORD_path5)\n",
    "print(df0[ORD].value_counts())\n",
    "# print(df['income'].value_counts())\n",
    "# print(df.shape)"
   ]
  },
  {
   "cell_type": "code",
   "execution_count": 26,
   "metadata": {},
   "outputs": [
    {
     "name": "stdout",
     "output_type": "stream",
     "text": [
      "(1000000, 14)\n",
      "cond\n",
      "0    980654\n",
      "2     10162\n",
      "1      9184\n",
      "Name: count, dtype: int64\n",
      "cond\n",
      "0    20000\n",
      "2    10162\n",
      "Name: count, dtype: int64\n"
     ]
    }
   ],
   "source": [
    "# concatenating all datasets together\n",
    "data = pd.concat([df0,df1,df2,df3,df4], axis = 0)\n",
    "print(data.shape)\n",
    "print(data[ORD].value_counts())\n",
    "data = pd.concat([data[data[ORD]==2], data[data[ORD]==0].sample(n=20000, random_state=42)])\n",
    "print(data[ORD].value_counts())"
   ]
  },
  {
   "cell_type": "code",
   "execution_count": 27,
   "metadata": {},
   "outputs": [
    {
     "name": "stdout",
     "output_type": "stream",
     "text": [
      "income\n",
      "0    20000\n",
      "1    10162\n",
      "Name: count, dtype: int64\n"
     ]
    }
   ],
   "source": [
    "#creating the target column from the ORD column\n",
    "data[target] = 0\n",
    "data[target][data[ORD] == 0] = 0\n",
    "data[target][data[ORD] == 2] = 1\n",
    "data = data.drop(ORD, axis = 1)\n",
    "print(data[target].value_counts())"
   ]
  },
  {
   "cell_type": "code",
   "execution_count": 28,
   "metadata": {},
   "outputs": [],
   "source": [
    "# changing object datatype to category as is required for xgboost\n",
    "cat_cols = [col for col in data.columns if data[col].dtype == 'object']\n",
    "for col in cat_cols:\n",
    "    data[col] = data[col].astype('category')"
   ]
  },
  {
   "cell_type": "code",
   "execution_count": 29,
   "metadata": {},
   "outputs": [],
   "source": [
    "train = data\n",
    "X_train = train.drop(target, axis = 1)\n",
    "y_train = train[target]\n",
    "X_test = test.drop(target, axis = 1)\n",
    "y_test = test[target]\n",
    "\n",
    "xgb_train = xgb.DMatrix(X_train, y_train, enable_categorical=True)\n",
    "xgb_test = xgb.DMatrix(X_test, y_test, enable_categorical=True)"
   ]
  },
  {
   "cell_type": "code",
   "execution_count": 30,
   "metadata": {},
   "outputs": [],
   "source": [
    "# can change parameter of the model if needed\n",
    "params = {\n",
    "\t'objective': 'binary:logistic',\n",
    "\t# 'max_depth': [20, 50, 100],\n",
    "\t# 'learning_rate': [0.1, 0.001, 0.0001],\n",
    "    # 'num_boost_round': 500\n",
    "}\n",
    "\n",
    "model = xgb.train(params=params,dtrain=xgb_train)#,num_boost_round=n)"
   ]
  },
  {
   "cell_type": "markdown",
   "metadata": {},
   "source": [
    "## Checking accuracy"
   ]
  },
  {
   "cell_type": "code",
   "execution_count": 31,
   "metadata": {},
   "outputs": [
    {
     "name": "stdout",
     "output_type": "stream",
     "text": [
      "9334\n",
      "Train accuracy of the model is: 86.06856309263311\n"
     ]
    },
    {
     "data": {
      "text/plain": [
       "<sklearn.metrics._plot.confusion_matrix.ConfusionMatrixDisplay at 0x714cd8150890>"
      ]
     },
     "execution_count": 31,
     "metadata": {},
     "output_type": "execute_result"
    },
    {
     "data": {
      "image/png": "[encoded data removed]",
      "text/plain": [
       "<Figure size 640x480 with 2 Axes>"
      ]
     },
     "metadata": {},
     "output_type": "display_data"
    }
   ],
   "source": [
    "preds_train = model.predict(xgb_train)\n",
    "y_pred_train = [round(pred) for pred in preds_train]\n",
    "print(sum(y_pred_train))\n",
    "accuracy= accuracy_score(y_train,y_pred_train)\n",
    "print('Train accuracy of the model is:', accuracy*100)\n",
    "cm = confusion_matrix(y_train, y_pred_train)\n",
    "ConfusionMatrixDisplay(confusion_matrix=cm).plot()"
   ]
  },
  {
   "cell_type": "code",
   "execution_count": 32,
   "metadata": {},
   "outputs": [
    {
     "name": "stdout",
     "output_type": "stream",
     "text": [
      "1563\n"
     ]
    },
    {
     "name": "stdout",
     "output_type": "stream",
     "text": [
      "Test accuracy of the model is: 78.125\n"
     ]
    },
    {
     "data": {
      "text/plain": [
       "<sklearn.metrics._plot.confusion_matrix.ConfusionMatrixDisplay at 0x714cd77677a0>"
      ]
     },
     "execution_count": 32,
     "metadata": {},
     "output_type": "execute_result"
    },
    {
     "data": {
      "image/png": "[encoded data removed]",
      "text/plain": [
       "<Figure size 640x480 with 2 Axes>"
      ]
     },
     "metadata": {},
     "output_type": "display_data"
    }
   ],
   "source": [
    "preds = model.predict(xgb_test)\n",
    "y_pred = [round(pred) for pred in preds]\n",
    "print(sum(y_pred))\n",
    "accuracy= accuracy_score(y_test,y_pred)\n",
    "print('Test accuracy of the model is:', accuracy*100)\n",
    "cm = confusion_matrix(y_test, y_pred)\n",
    "ConfusionMatrixDisplay(confusion_matrix=cm).plot()"
   ]
  },
  {
   "cell_type": "markdown",
   "metadata": {},
   "source": [
    "## Changing threshold"
   ]
  },
  {
   "cell_type": "code",
   "execution_count": 33,
   "metadata": {},
   "outputs": [
    {
     "name": "stdout",
     "output_type": "stream",
     "text": [
      "2395\n",
      "Threshold: 0.20, accuracy: 80.27499999999999\n",
      "2315\n",
      "Threshold: 0.22, accuracy: 80.77499999999999\n",
      "2278\n",
      "Threshold: 0.24, accuracy: 80.95\n",
      "2212\n",
      "Threshold: 0.26, accuracy: 81.05\n",
      "2129\n",
      "Threshold: 0.28, accuracy: 80.975\n",
      "2055\n",
      "Threshold: 0.30, accuracy: 81.175\n",
      "2012\n",
      "Threshold: 0.32, accuracy: 81.0\n",
      "1925\n",
      "Threshold: 0.34, accuracy: 80.975\n",
      "1874\n",
      "Threshold: 0.36, accuracy: 80.4\n",
      "1802\n",
      "Threshold: 0.38, accuracy: 79.95\n",
      "1773\n",
      "Threshold: 0.40, accuracy: 79.825\n",
      "1738\n",
      "Threshold: 0.42, accuracy: 79.75\n",
      "1703\n",
      "Threshold: 0.44, accuracy: 79.57499999999999\n",
      "1660\n",
      "Threshold: 0.46, accuracy: 78.95\n",
      "1613\n",
      "Threshold: 0.48, accuracy: 78.57499999999999\n"
     ]
    }
   ],
   "source": [
    "for i in np.arange(0.2,0.5,0.02):\n",
    "    THRESHOLD = i\n",
    "    y_pred = [pred>=THRESHOLD for pred in preds ]\n",
    "    print(sum(y_pred))\n",
    "    accuracy= accuracy_score(y_test,y_pred)\n",
    "    print(f'Threshold: {THRESHOLD:.2f}, accuracy: {accuracy*100}')\n",
    "    cm = confusion_matrix(y_test, y_pred)\n",
    "    # Can display confusion matrix for each threshold for more details \n",
    "    # ConfusionMatrixDisplay(confusion_matrix=cm).plot()"
   ]
  },
  {
   "cell_type": "markdown",
   "metadata": {},
   "source": [
    "Best accuray of 80.975% occurs at a threshold of 0.34"
   ]
  }
 ],
 "metadata": {
  "kernelspec": {
   "display_name": "Virtual_env",
   "language": "python",
   "name": "python3"
  },
  "language_info": {
   "codemirror_mode": {
    "name": "ipython",
    "version": 3
   },
   "file_extension": ".py",
   "mimetype": "text/x-python",
   "name": "python",
   "nbconvert_exporter": "python",
   "pygments_lexer": "ipython3",
   "version": "3.12.4"
  }
 },
 "nbformat": 4,
 "nbformat_minor": 2
}
